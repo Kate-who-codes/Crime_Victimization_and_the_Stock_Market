{
 "cells": [
  {
   "cell_type": "code",
   "execution_count": 1,
   "metadata": {},
   "outputs": [],
   "source": [
    "# This file is intended to store NCVS analysis\n",
    "# Add any necessary modules here\n",
    "import pandas as pd"
   ]
  },
  {
   "cell_type": "code",
   "execution_count": 5,
   "metadata": {},
   "outputs": [],
   "source": [
    "#Reading in data from clean csv - DO NOT EDIT\n",
    "DowJones_csv_path = \"../DataCleaning/DowJones_Clean\"\n",
    "\n",
    "DowJones_df = pd.read_csv(DowJones_csv_path)\n",
    "DowJones_df.drop(labels = \"Unnamed: 0\", axis = 1, inplace = True)"
   ]
  },
  {
   "cell_type": "code",
   "execution_count": 6,
   "metadata": {},
   "outputs": [
    {
     "data": {
      "text/html": [
       "<div>\n",
       "<style scoped>\n",
       "    .dataframe tbody tr th:only-of-type {\n",
       "        vertical-align: middle;\n",
       "    }\n",
       "\n",
       "    .dataframe tbody tr th {\n",
       "        vertical-align: top;\n",
       "    }\n",
       "\n",
       "    .dataframe thead th {\n",
       "        text-align: right;\n",
       "    }\n",
       "</style>\n",
       "<table border=\"1\" class=\"dataframe\">\n",
       "  <thead>\n",
       "    <tr style=\"text-align: right;\">\n",
       "      <th></th>\n",
       "      <th>Year</th>\n",
       "      <th>First Open</th>\n",
       "      <th>Last Close</th>\n",
       "      <th>Average Close</th>\n",
       "      <th>Year Change</th>\n",
       "      <th>Percent Change</th>\n",
       "      <th>Avg Daily Change/Volatility</th>\n",
       "    </tr>\n",
       "  </thead>\n",
       "  <tbody>\n",
       "    <tr>\n",
       "      <th>0</th>\n",
       "      <td>1992</td>\n",
       "      <td>3152.1</td>\n",
       "      <td>3301.11</td>\n",
       "      <td>3284.08</td>\n",
       "      <td>149.01</td>\n",
       "      <td>4.73%</td>\n",
       "      <td>16.45</td>\n",
       "    </tr>\n",
       "    <tr>\n",
       "      <th>1</th>\n",
       "      <td>1993</td>\n",
       "      <td>3301.1</td>\n",
       "      <td>3754.09</td>\n",
       "      <td>3524.92</td>\n",
       "      <td>452.99</td>\n",
       "      <td>13.72%</td>\n",
       "      <td>14.38</td>\n",
       "    </tr>\n",
       "    <tr>\n",
       "      <th>2</th>\n",
       "      <td>1994</td>\n",
       "      <td>3754.1</td>\n",
       "      <td>3834.44</td>\n",
       "      <td>3794.22</td>\n",
       "      <td>80.34</td>\n",
       "      <td>2.14%</td>\n",
       "      <td>19.54</td>\n",
       "    </tr>\n",
       "    <tr>\n",
       "      <th>3</th>\n",
       "      <td>1995</td>\n",
       "      <td>3834.4</td>\n",
       "      <td>5117.12</td>\n",
       "      <td>4494.28</td>\n",
       "      <td>1282.72</td>\n",
       "      <td>33.45%</td>\n",
       "      <td>18.98</td>\n",
       "    </tr>\n",
       "    <tr>\n",
       "      <th>4</th>\n",
       "      <td>1996</td>\n",
       "      <td>5115.7</td>\n",
       "      <td>6448.27</td>\n",
       "      <td>5739.63</td>\n",
       "      <td>1332.57</td>\n",
       "      <td>26.05%</td>\n",
       "      <td>32.87</td>\n",
       "    </tr>\n",
       "  </tbody>\n",
       "</table>\n",
       "</div>"
      ],
      "text/plain": [
       "   Year  First Open  Last Close  Average Close  Year Change Percent Change  \\\n",
       "0  1992      3152.1     3301.11        3284.08       149.01          4.73%   \n",
       "1  1993      3301.1     3754.09        3524.92       452.99         13.72%   \n",
       "2  1994      3754.1     3834.44        3794.22        80.34          2.14%   \n",
       "3  1995      3834.4     5117.12        4494.28      1282.72         33.45%   \n",
       "4  1996      5115.7     6448.27        5739.63      1332.57         26.05%   \n",
       "\n",
       "   Avg Daily Change/Volatility  \n",
       "0                        16.45  \n",
       "1                        14.38  \n",
       "2                        19.54  \n",
       "3                        18.98  \n",
       "4                        32.87  "
      ]
     },
     "execution_count": 6,
     "metadata": {},
     "output_type": "execute_result"
    }
   ],
   "source": [
    "DowJones_df.head()"
   ]
  },
  {
   "cell_type": "code",
   "execution_count": null,
   "metadata": {},
   "outputs": [],
   "source": [
    "# Analysis goes here!"
   ]
  }
 ],
 "metadata": {
  "kernelspec": {
   "display_name": "Python 3",
   "language": "python",
   "name": "python3"
  },
  "language_info": {
   "codemirror_mode": {
    "name": "ipython",
    "version": 3
   },
   "file_extension": ".py",
   "mimetype": "text/x-python",
   "name": "python",
   "nbconvert_exporter": "python",
   "pygments_lexer": "ipython3",
   "version": "3.8.5"
  }
 },
 "nbformat": 4,
 "nbformat_minor": 4
}
